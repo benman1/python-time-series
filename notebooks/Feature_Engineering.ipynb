{
 "cells": [
  {
   "cell_type": "markdown",
   "id": "6a06a10a-ee82-40ce-8821-3da680af4b95",
   "metadata": {},
   "source": [
    "<a href=\"https://colab.research.google.com/github/benman1/python-time-series/blob/master/notebooks/Feature_Engineering.ipynb\" target=\"_parent\\\"><img src=\"https://colab.research.google.com/assets/colab-badge.svg\" alt=\"Open In Colab\"/></a>"
   ]
  },
  {
   "cell_type": "markdown",
   "id": "503b0b9a-71a9-475c-9906-e59fb9853932",
   "metadata": {},
   "source": [
    "This notebook is mainly about derived date features."
   ]
  },
  {
   "cell_type": "markdown",
   "id": "5aa0e489-638d-46e7-8850-518c616e22e5",
   "metadata": {},
   "source": [
    "## Holidays"
   ]
  },
  {
   "cell_type": "code",
   "execution_count": 1,
   "id": "9efee10c-2d3d-4265-886a-50e87e380a97",
   "metadata": {},
   "outputs": [
    {
     "data": {
      "text/plain": [
       "[(datetime.date(2023, 1, 1), 'New year'),\n",
       " (datetime.date(2023, 1, 2), 'New Year shift'),\n",
       " (datetime.date(2023, 4, 7), 'Good Friday'),\n",
       " (datetime.date(2023, 4, 9), 'Easter Sunday'),\n",
       " (datetime.date(2023, 4, 10), 'Easter Monday'),\n",
       " (datetime.date(2023, 5, 1), 'Early May Bank Holiday'),\n",
       " (datetime.date(2023, 5, 29), 'Spring Bank Holiday'),\n",
       " (datetime.date(2023, 8, 28), 'Late Summer Bank Holiday'),\n",
       " (datetime.date(2023, 12, 25), 'Christmas Day'),\n",
       " (datetime.date(2023, 12, 26), 'Boxing Day')]"
      ]
     },
     "execution_count": 1,
     "metadata": {},
     "output_type": "execute_result"
    }
   ],
   "source": [
    "from workalendar.europe.united_kingdom import UnitedKingdom\n",
    "UnitedKingdom().holidays()"
   ]
  },
  {
   "cell_type": "code",
   "execution_count": 2,
   "id": "1539b652-a1f8-41a6-8410-cccad3d5edb6",
   "metadata": {},
   "outputs": [],
   "source": [
    "from typing import List\n",
    "from dateutil.relativedelta import relativedelta, TH\n",
    "import datetime\n",
    "from workalendar.usa import California\n",
    "\n",
    "def create_custom_holidays(year) -> List:\n",
    "      custom_holidays = California().holidays()\n",
    "      custom_holidays.append((\n",
    "        (datetime.datetime(year, 11, 1) + relativedelta(weekday=TH(+4)) + datetime.timedelta(days=1)).date(),\n",
    "        \"Black Friday\"\n",
    "      ))\n",
    "      return {k: v for (k, v) in custom_holidays}\n",
    "\n",
    "custom_holidays = create_custom_holidays(2021)"
   ]
  },
  {
   "cell_type": "code",
   "execution_count": 3,
   "id": "bec50434-e7b4-409b-8f37-9b400ce0a2bf",
   "metadata": {},
   "outputs": [
    {
     "data": {
      "text/plain": [
       "{datetime.date(2023, 1, 1): 'New year',\n",
       " datetime.date(2023, 1, 2): 'New year (Observed)',\n",
       " datetime.date(2023, 1, 16): 'Birthday of Martin Luther King, Jr.',\n",
       " datetime.date(2023, 2, 20): \"Washington's Birthday\",\n",
       " datetime.date(2023, 3, 31): 'Cesar Chavez Day',\n",
       " datetime.date(2023, 5, 29): 'Memorial Day',\n",
       " datetime.date(2023, 7, 4): 'Independence Day',\n",
       " datetime.date(2023, 9, 4): 'Labor Day',\n",
       " datetime.date(2023, 11, 10): 'Veterans Day (Observed)',\n",
       " datetime.date(2023, 11, 11): 'Veterans Day',\n",
       " datetime.date(2023, 11, 23): 'Thanksgiving Day',\n",
       " datetime.date(2023, 11, 24): 'Thanksgiving Friday',\n",
       " datetime.date(2023, 12, 25): 'Christmas Day',\n",
       " datetime.date(2021, 11, 26): 'Black Friday'}"
      ]
     },
     "execution_count": 3,
     "metadata": {},
     "output_type": "execute_result"
    }
   ],
   "source": [
    "custom_holidays"
   ]
  },
  {
   "cell_type": "code",
   "execution_count": 4,
   "id": "3e8c9a76-0ec7-40c8-8eda-e7e480281501",
   "metadata": {},
   "outputs": [
    {
     "data": {
      "text/plain": [
       "False"
      ]
     },
     "execution_count": 4,
     "metadata": {},
     "output_type": "execute_result"
    }
   ],
   "source": [
    "def is_holiday(current_date: datetime.date):\n",
    "    \"\"\"Determine if we have a holiday.\"\"\"\n",
    "    return custom_holidays.get(current_date, False)\n",
    "\n",
    "today = datetime.date(2021, 4, 11)\n",
    "is_holiday(today)"
   ]
  },
  {
   "cell_type": "markdown",
   "id": "ddb63805-b782-4944-a88b-4996783177f7",
   "metadata": {},
   "source": [
    "## Date Annotations"
   ]
  },
  {
   "cell_type": "code",
   "execution_count": 5,
   "id": "eab731b5-fa14-4c8a-bd39-0a805c36aa80",
   "metadata": {},
   "outputs": [
    {
     "data": {
      "text/plain": [
       "(4, 31)"
      ]
     },
     "execution_count": 5,
     "metadata": {},
     "output_type": "execute_result"
    }
   ],
   "source": [
    "import calendar\n",
    "\n",
    "calendar.monthrange(2021, 1)"
   ]
  },
  {
   "cell_type": "code",
   "execution_count": 6,
   "id": "f9d4a8b3-fea7-4e75-86e4-fff5cc3ffa9e",
   "metadata": {},
   "outputs": [
    {
     "data": {
      "text/plain": [
       "(100, 264)"
      ]
     },
     "execution_count": 6,
     "metadata": {},
     "output_type": "execute_result"
    }
   ],
   "source": [
    "from datetime import date\n",
    "def year_anchor(current_date: datetime.date):\n",
    "      return (\n",
    "        (current_date - date(current_date.year, 1, 1)).days,\n",
    "        (date(current_date.year, 12, 31) - current_date).days,\n",
    "      )\n",
    "\n",
    "year_anchor(today)\n"
   ]
  },
  {
   "cell_type": "code",
   "execution_count": 7,
   "id": "d6a4e6d4-3a68-48a5-b564-29e9f7b0b72d",
   "metadata": {},
   "outputs": [
    {
     "data": {
      "text/plain": [
       "(10, 8)"
      ]
     },
     "execution_count": 7,
     "metadata": {},
     "output_type": "execute_result"
    }
   ],
   "source": [
    "def month_anchor(current_date: datetime.date):\n",
    "      last_day = calendar.monthrange(current_date.year, current_date.month)[0]\n",
    "    \n",
    "      return (\n",
    "        (current_date - datetime.date(current_date.year, current_date.month, 1)).days,\n",
    "        (current_date - datetime.date(current_date.year, current_date.month, last_day)).days,\n",
    "      )\n",
    "\n",
    "month_anchor(today)\n"
   ]
  },
  {
   "cell_type": "markdown",
   "id": "5453766c-e8d5-4fd8-88a8-4b87602c506f",
   "metadata": {},
   "source": [
    "## Paydays"
   ]
  },
  {
   "cell_type": "code",
   "execution_count": 8,
   "id": "5fa16210-e016-4cb6-85b9-84f964255f81",
   "metadata": {},
   "outputs": [
    {
     "data": {
      "text/plain": [
       "30"
      ]
     },
     "execution_count": 8,
     "metadata": {},
     "output_type": "execute_result"
    }
   ],
   "source": [
    "def get_last_friday(current_date: datetime.date, weekday=calendar.FRIDAY):\n",
    "      return max(week[weekday]\n",
    "        for week in calendar.monthcalendar(\n",
    "            current_date.year, current_date.month\n",
    "        ))\n",
    "\n",
    "get_last_friday(today)\n"
   ]
  },
  {
   "cell_type": "markdown",
   "id": "2a2cca85-1e9f-4e3c-ad34-a6b1122e217a",
   "metadata": {},
   "source": [
    "## Seasons"
   ]
  },
  {
   "cell_type": "code",
   "execution_count": 9,
   "id": "6abd71ed-2478-4c8a-a578-1b961e8a1de4",
   "metadata": {},
   "outputs": [
    {
     "data": {
      "text/plain": [
       "'spring'"
      ]
     },
     "execution_count": 9,
     "metadata": {},
     "output_type": "execute_result"
    }
   ],
   "source": [
    "YEAR = 2021\n",
    "seasons = [\n",
    "    ('winter', (date(YEAR,  1,  1),  date(YEAR,  3, 20))),\n",
    "    ('spring', (date(YEAR,  3, 21),  date(YEAR,  6, 20))),\n",
    "    ('summer', (date(YEAR,  6, 21),  date(YEAR,  9, 22))),\n",
    "    ('autumn', (date(YEAR,  9, 23),  date(YEAR, 12, 20))),\n",
    "    ('winter', (date(YEAR, 12, 21),  date(YEAR, 12, 31)))\n",
    "]\n",
    "\n",
    "def is_in_interval(current_date: datetime.date, seasons):\n",
    "      return next(season for season, (start, end) in seasons\n",
    "                if start <= current_date.replace(year=YEAR) <= end)\n",
    "    \n",
    "is_in_interval(today, seasons)\n"
   ]
  },
  {
   "cell_type": "markdown",
   "id": "bff1e4f1-03a6-4710-8fcc-93ca10e529c1",
   "metadata": {},
   "source": [
    "## Sun and Moon"
   ]
  },
  {
   "cell_type": "code",
   "execution_count": 11,
   "id": "92c55bb2-caf3-4a70-b51a-84bfc073b2ce",
   "metadata": {},
   "outputs": [
    {
     "data": {
      "text/plain": [
       "9.788055555555555"
      ]
     },
     "execution_count": 11,
     "metadata": {},
     "output_type": "execute_result"
    }
   ],
   "source": [
    "from astral.sun import sun\n",
    "from astral import LocationInfo\n",
    "CITY = LocationInfo(\"London\", \"England\", \"Europe/London\", 51.5, -0.116)\n",
    "def get_sunrise_dusk(current_date: datetime.date, city_name='London'):\n",
    "      s = sun(CITY.observer, date=current_date)\n",
    "      sunrise = s['sunrise']\n",
    "      dusk = s['dusk']\n",
    "      return (sunrise - dusk).seconds / 3600\n",
    "\n",
    "get_sunrise_dusk(today)\n"
   ]
  },
  {
   "cell_type": "markdown",
   "id": "98f041ac-5c80-408e-909a-3364975f6be0",
   "metadata": {},
   "source": [
    "## Business Days"
   ]
  },
  {
   "cell_type": "code",
   "execution_count": 12,
   "id": "aac6eeef-2d1b-4bf2-a2cb-75a9c4648a93",
   "metadata": {},
   "outputs": [
    {
     "data": {
      "text/plain": [
       "(20, 8)"
      ]
     },
     "execution_count": 12,
     "metadata": {},
     "output_type": "execute_result"
    }
   ],
   "source": [
    "import pandas as pd\n",
    "\n",
    "def get_business_days(current_date: datetime.date):\n",
    "    last_day = calendar.monthrange(current_date.year, current_date.month)[1]\n",
    "    rng = pd.date_range(current_date.replace(day=1), periods=last_day, freq='D')\n",
    "    business_days = pd.bdate_range(rng[0], rng[-1])\n",
    "    return len(business_days), last_day - len(business_days)\n",
    "\n",
    "get_business_days(date.today())\n"
   ]
  },
  {
   "cell_type": "markdown",
   "id": "91f21e9b-c326-472b-a59a-85a908502fe4",
   "metadata": {},
   "source": [
    "# Automated Feature Extraction"
   ]
  },
  {
   "cell_type": "code",
   "execution_count": 13,
   "id": "7df98e51-5f84-49fd-b13c-a7a488bcc4ea",
   "metadata": {},
   "outputs": [
    {
     "name": "stderr",
     "output_type": "stream",
     "text": [
      "/opt/anaconda3/envs/book/lib/python3.10/site-packages/featuretools/synthesis/deep_feature_synthesis.py:169: UserWarning: Only one dataframe in entityset, changing max_depth to 1 since deeper features cannot be created\n",
      "  warnings.warn(\n"
     ]
    }
   ],
   "source": [
    "import featuretools as ft\n",
    "from featuretools.primitives import Minute, Hour, Day, Month, Year, Weekday\n",
    "\n",
    "data = pd.DataFrame(\n",
    "    {'Time': ['2014-01-01 01:41:50',\n",
    "              '2014-01-01 02:06:50',\n",
    "              '2014-01-01 02:31:50',\n",
    "              '2014-01-01 02:56:50',\n",
    "              '2014-01-01 03:21:50'],\n",
    "     'Target': [0, 0, 0, 0, 1]}\n",
    ")        \n",
    "data['index'] = data.index\n",
    "es = ft.EntitySet('My EntitySet')\n",
    "es.add_dataframe(\n",
    "    dataframe_name='main_data_table',\n",
    "    index='index',\n",
    "    dataframe=data,\n",
    "    time_index='Time'\n",
    ")\n",
    "feature_matrix, feature_defs = ft.dfs(entityset=es, target_dataframe_name=\"main_data_table\")\n"
   ]
  },
  {
   "cell_type": "code",
   "execution_count": 14,
   "id": "39b85175-58d9-44bc-8374-09af58f245d3",
   "metadata": {},
   "outputs": [
    {
     "data": {
      "text/html": [
       "<div>\n",
       "<style scoped>\n",
       "    .dataframe tbody tr th:only-of-type {\n",
       "        vertical-align: middle;\n",
       "    }\n",
       "\n",
       "    .dataframe tbody tr th {\n",
       "        vertical-align: top;\n",
       "    }\n",
       "\n",
       "    .dataframe thead th {\n",
       "        text-align: right;\n",
       "    }\n",
       "</style>\n",
       "<table border=\"1\" class=\"dataframe\">\n",
       "  <thead>\n",
       "    <tr style=\"text-align: right;\">\n",
       "      <th></th>\n",
       "      <th>Target</th>\n",
       "      <th>DAY(Time)</th>\n",
       "      <th>MONTH(Time)</th>\n",
       "      <th>WEEKDAY(Time)</th>\n",
       "      <th>YEAR(Time)</th>\n",
       "    </tr>\n",
       "    <tr>\n",
       "      <th>index</th>\n",
       "      <th></th>\n",
       "      <th></th>\n",
       "      <th></th>\n",
       "      <th></th>\n",
       "      <th></th>\n",
       "    </tr>\n",
       "  </thead>\n",
       "  <tbody>\n",
       "    <tr>\n",
       "      <th>0</th>\n",
       "      <td>0</td>\n",
       "      <td>1</td>\n",
       "      <td>1</td>\n",
       "      <td>2</td>\n",
       "      <td>2014</td>\n",
       "    </tr>\n",
       "    <tr>\n",
       "      <th>1</th>\n",
       "      <td>0</td>\n",
       "      <td>1</td>\n",
       "      <td>1</td>\n",
       "      <td>2</td>\n",
       "      <td>2014</td>\n",
       "    </tr>\n",
       "    <tr>\n",
       "      <th>2</th>\n",
       "      <td>0</td>\n",
       "      <td>1</td>\n",
       "      <td>1</td>\n",
       "      <td>2</td>\n",
       "      <td>2014</td>\n",
       "    </tr>\n",
       "    <tr>\n",
       "      <th>3</th>\n",
       "      <td>0</td>\n",
       "      <td>1</td>\n",
       "      <td>1</td>\n",
       "      <td>2</td>\n",
       "      <td>2014</td>\n",
       "    </tr>\n",
       "    <tr>\n",
       "      <th>4</th>\n",
       "      <td>1</td>\n",
       "      <td>1</td>\n",
       "      <td>1</td>\n",
       "      <td>2</td>\n",
       "      <td>2014</td>\n",
       "    </tr>\n",
       "  </tbody>\n",
       "</table>\n",
       "</div>"
      ],
      "text/plain": [
       "       Target DAY(Time) MONTH(Time) WEEKDAY(Time) YEAR(Time)\n",
       "index                                                       \n",
       "0           0         1           1             2       2014\n",
       "1           0         1           1             2       2014\n",
       "2           0         1           1             2       2014\n",
       "3           0         1           1             2       2014\n",
       "4           1         1           1             2       2014"
      ]
     },
     "execution_count": 14,
     "metadata": {},
     "output_type": "execute_result"
    }
   ],
   "source": [
    "feature_matrix"
   ]
  },
  {
   "cell_type": "code",
   "execution_count": 15,
   "id": "11f5581e-0ce2-4a90-9f0c-5aeefbaa2096",
   "metadata": {},
   "outputs": [
    {
     "name": "stderr",
     "output_type": "stream",
     "text": [
      "Feature Extraction: 100%|████████████████████████████████████████████████████████████████████| 10/10 [00:03<00:00,  2.79it/s]\n"
     ]
    },
    {
     "data": {
      "text/html": [
       "<div>\n",
       "<style scoped>\n",
       "    .dataframe tbody tr th:only-of-type {\n",
       "        vertical-align: middle;\n",
       "    }\n",
       "\n",
       "    .dataframe tbody tr th {\n",
       "        vertical-align: top;\n",
       "    }\n",
       "\n",
       "    .dataframe thead th {\n",
       "        text-align: right;\n",
       "    }\n",
       "</style>\n",
       "<table border=\"1\" class=\"dataframe\">\n",
       "  <thead>\n",
       "    <tr style=\"text-align: right;\">\n",
       "      <th></th>\n",
       "      <th>Target__variance_larger_than_standard_deviation</th>\n",
       "      <th>Target__has_duplicate_max</th>\n",
       "      <th>Target__has_duplicate_min</th>\n",
       "      <th>Target__has_duplicate</th>\n",
       "      <th>Target__sum_values</th>\n",
       "      <th>Target__abs_energy</th>\n",
       "      <th>Target__mean_abs_change</th>\n",
       "      <th>Target__mean_change</th>\n",
       "      <th>Target__mean_second_derivative_central</th>\n",
       "      <th>Target__median</th>\n",
       "      <th>...</th>\n",
       "      <th>index__fourier_entropy__bins_5</th>\n",
       "      <th>index__fourier_entropy__bins_10</th>\n",
       "      <th>index__fourier_entropy__bins_100</th>\n",
       "      <th>index__permutation_entropy__dimension_3__tau_1</th>\n",
       "      <th>index__permutation_entropy__dimension_4__tau_1</th>\n",
       "      <th>index__permutation_entropy__dimension_5__tau_1</th>\n",
       "      <th>index__permutation_entropy__dimension_6__tau_1</th>\n",
       "      <th>index__permutation_entropy__dimension_7__tau_1</th>\n",
       "      <th>index__query_similarity_count__query_None__threshold_0.0</th>\n",
       "      <th>index__mean_n_absolute_max__number_of_maxima_7</th>\n",
       "    </tr>\n",
       "  </thead>\n",
       "  <tbody>\n",
       "    <tr>\n",
       "      <th>2014-01-01 01:41:50</th>\n",
       "      <td>0.0</td>\n",
       "      <td>0.0</td>\n",
       "      <td>0.0</td>\n",
       "      <td>0.0</td>\n",
       "      <td>0.0</td>\n",
       "      <td>0.0</td>\n",
       "      <td>NaN</td>\n",
       "      <td>NaN</td>\n",
       "      <td>NaN</td>\n",
       "      <td>0.0</td>\n",
       "      <td>...</td>\n",
       "      <td>NaN</td>\n",
       "      <td>NaN</td>\n",
       "      <td>NaN</td>\n",
       "      <td>NaN</td>\n",
       "      <td>NaN</td>\n",
       "      <td>NaN</td>\n",
       "      <td>NaN</td>\n",
       "      <td>NaN</td>\n",
       "      <td>NaN</td>\n",
       "      <td>NaN</td>\n",
       "    </tr>\n",
       "    <tr>\n",
       "      <th>2014-01-01 02:06:50</th>\n",
       "      <td>0.0</td>\n",
       "      <td>0.0</td>\n",
       "      <td>0.0</td>\n",
       "      <td>0.0</td>\n",
       "      <td>0.0</td>\n",
       "      <td>0.0</td>\n",
       "      <td>NaN</td>\n",
       "      <td>NaN</td>\n",
       "      <td>NaN</td>\n",
       "      <td>0.0</td>\n",
       "      <td>...</td>\n",
       "      <td>NaN</td>\n",
       "      <td>NaN</td>\n",
       "      <td>NaN</td>\n",
       "      <td>NaN</td>\n",
       "      <td>NaN</td>\n",
       "      <td>NaN</td>\n",
       "      <td>NaN</td>\n",
       "      <td>NaN</td>\n",
       "      <td>NaN</td>\n",
       "      <td>NaN</td>\n",
       "    </tr>\n",
       "    <tr>\n",
       "      <th>2014-01-01 02:31:50</th>\n",
       "      <td>0.0</td>\n",
       "      <td>0.0</td>\n",
       "      <td>0.0</td>\n",
       "      <td>0.0</td>\n",
       "      <td>0.0</td>\n",
       "      <td>0.0</td>\n",
       "      <td>NaN</td>\n",
       "      <td>NaN</td>\n",
       "      <td>NaN</td>\n",
       "      <td>0.0</td>\n",
       "      <td>...</td>\n",
       "      <td>NaN</td>\n",
       "      <td>NaN</td>\n",
       "      <td>NaN</td>\n",
       "      <td>NaN</td>\n",
       "      <td>NaN</td>\n",
       "      <td>NaN</td>\n",
       "      <td>NaN</td>\n",
       "      <td>NaN</td>\n",
       "      <td>NaN</td>\n",
       "      <td>NaN</td>\n",
       "    </tr>\n",
       "    <tr>\n",
       "      <th>2014-01-01 02:56:50</th>\n",
       "      <td>0.0</td>\n",
       "      <td>0.0</td>\n",
       "      <td>0.0</td>\n",
       "      <td>0.0</td>\n",
       "      <td>0.0</td>\n",
       "      <td>0.0</td>\n",
       "      <td>NaN</td>\n",
       "      <td>NaN</td>\n",
       "      <td>NaN</td>\n",
       "      <td>0.0</td>\n",
       "      <td>...</td>\n",
       "      <td>NaN</td>\n",
       "      <td>NaN</td>\n",
       "      <td>NaN</td>\n",
       "      <td>NaN</td>\n",
       "      <td>NaN</td>\n",
       "      <td>NaN</td>\n",
       "      <td>NaN</td>\n",
       "      <td>NaN</td>\n",
       "      <td>NaN</td>\n",
       "      <td>NaN</td>\n",
       "    </tr>\n",
       "    <tr>\n",
       "      <th>2014-01-01 03:21:50</th>\n",
       "      <td>0.0</td>\n",
       "      <td>0.0</td>\n",
       "      <td>0.0</td>\n",
       "      <td>0.0</td>\n",
       "      <td>1.0</td>\n",
       "      <td>1.0</td>\n",
       "      <td>NaN</td>\n",
       "      <td>NaN</td>\n",
       "      <td>NaN</td>\n",
       "      <td>1.0</td>\n",
       "      <td>...</td>\n",
       "      <td>NaN</td>\n",
       "      <td>NaN</td>\n",
       "      <td>NaN</td>\n",
       "      <td>NaN</td>\n",
       "      <td>NaN</td>\n",
       "      <td>NaN</td>\n",
       "      <td>NaN</td>\n",
       "      <td>NaN</td>\n",
       "      <td>NaN</td>\n",
       "      <td>NaN</td>\n",
       "    </tr>\n",
       "  </tbody>\n",
       "</table>\n",
       "<p>5 rows × 1566 columns</p>\n",
       "</div>"
      ],
      "text/plain": [
       "                     Target__variance_larger_than_standard_deviation  \\\n",
       "2014-01-01 01:41:50                                              0.0   \n",
       "2014-01-01 02:06:50                                              0.0   \n",
       "2014-01-01 02:31:50                                              0.0   \n",
       "2014-01-01 02:56:50                                              0.0   \n",
       "2014-01-01 03:21:50                                              0.0   \n",
       "\n",
       "                     Target__has_duplicate_max  Target__has_duplicate_min  \\\n",
       "2014-01-01 01:41:50                        0.0                        0.0   \n",
       "2014-01-01 02:06:50                        0.0                        0.0   \n",
       "2014-01-01 02:31:50                        0.0                        0.0   \n",
       "2014-01-01 02:56:50                        0.0                        0.0   \n",
       "2014-01-01 03:21:50                        0.0                        0.0   \n",
       "\n",
       "                     Target__has_duplicate  Target__sum_values  \\\n",
       "2014-01-01 01:41:50                    0.0                 0.0   \n",
       "2014-01-01 02:06:50                    0.0                 0.0   \n",
       "2014-01-01 02:31:50                    0.0                 0.0   \n",
       "2014-01-01 02:56:50                    0.0                 0.0   \n",
       "2014-01-01 03:21:50                    0.0                 1.0   \n",
       "\n",
       "                     Target__abs_energy  Target__mean_abs_change  \\\n",
       "2014-01-01 01:41:50                 0.0                      NaN   \n",
       "2014-01-01 02:06:50                 0.0                      NaN   \n",
       "2014-01-01 02:31:50                 0.0                      NaN   \n",
       "2014-01-01 02:56:50                 0.0                      NaN   \n",
       "2014-01-01 03:21:50                 1.0                      NaN   \n",
       "\n",
       "                     Target__mean_change  \\\n",
       "2014-01-01 01:41:50                  NaN   \n",
       "2014-01-01 02:06:50                  NaN   \n",
       "2014-01-01 02:31:50                  NaN   \n",
       "2014-01-01 02:56:50                  NaN   \n",
       "2014-01-01 03:21:50                  NaN   \n",
       "\n",
       "                     Target__mean_second_derivative_central  Target__median  \\\n",
       "2014-01-01 01:41:50                                     NaN             0.0   \n",
       "2014-01-01 02:06:50                                     NaN             0.0   \n",
       "2014-01-01 02:31:50                                     NaN             0.0   \n",
       "2014-01-01 02:56:50                                     NaN             0.0   \n",
       "2014-01-01 03:21:50                                     NaN             1.0   \n",
       "\n",
       "                     ...  index__fourier_entropy__bins_5  \\\n",
       "2014-01-01 01:41:50  ...                             NaN   \n",
       "2014-01-01 02:06:50  ...                             NaN   \n",
       "2014-01-01 02:31:50  ...                             NaN   \n",
       "2014-01-01 02:56:50  ...                             NaN   \n",
       "2014-01-01 03:21:50  ...                             NaN   \n",
       "\n",
       "                     index__fourier_entropy__bins_10  \\\n",
       "2014-01-01 01:41:50                              NaN   \n",
       "2014-01-01 02:06:50                              NaN   \n",
       "2014-01-01 02:31:50                              NaN   \n",
       "2014-01-01 02:56:50                              NaN   \n",
       "2014-01-01 03:21:50                              NaN   \n",
       "\n",
       "                     index__fourier_entropy__bins_100  \\\n",
       "2014-01-01 01:41:50                               NaN   \n",
       "2014-01-01 02:06:50                               NaN   \n",
       "2014-01-01 02:31:50                               NaN   \n",
       "2014-01-01 02:56:50                               NaN   \n",
       "2014-01-01 03:21:50                               NaN   \n",
       "\n",
       "                     index__permutation_entropy__dimension_3__tau_1  \\\n",
       "2014-01-01 01:41:50                                             NaN   \n",
       "2014-01-01 02:06:50                                             NaN   \n",
       "2014-01-01 02:31:50                                             NaN   \n",
       "2014-01-01 02:56:50                                             NaN   \n",
       "2014-01-01 03:21:50                                             NaN   \n",
       "\n",
       "                     index__permutation_entropy__dimension_4__tau_1  \\\n",
       "2014-01-01 01:41:50                                             NaN   \n",
       "2014-01-01 02:06:50                                             NaN   \n",
       "2014-01-01 02:31:50                                             NaN   \n",
       "2014-01-01 02:56:50                                             NaN   \n",
       "2014-01-01 03:21:50                                             NaN   \n",
       "\n",
       "                     index__permutation_entropy__dimension_5__tau_1  \\\n",
       "2014-01-01 01:41:50                                             NaN   \n",
       "2014-01-01 02:06:50                                             NaN   \n",
       "2014-01-01 02:31:50                                             NaN   \n",
       "2014-01-01 02:56:50                                             NaN   \n",
       "2014-01-01 03:21:50                                             NaN   \n",
       "\n",
       "                     index__permutation_entropy__dimension_6__tau_1  \\\n",
       "2014-01-01 01:41:50                                             NaN   \n",
       "2014-01-01 02:06:50                                             NaN   \n",
       "2014-01-01 02:31:50                                             NaN   \n",
       "2014-01-01 02:56:50                                             NaN   \n",
       "2014-01-01 03:21:50                                             NaN   \n",
       "\n",
       "                     index__permutation_entropy__dimension_7__tau_1  \\\n",
       "2014-01-01 01:41:50                                             NaN   \n",
       "2014-01-01 02:06:50                                             NaN   \n",
       "2014-01-01 02:31:50                                             NaN   \n",
       "2014-01-01 02:56:50                                             NaN   \n",
       "2014-01-01 03:21:50                                             NaN   \n",
       "\n",
       "                     index__query_similarity_count__query_None__threshold_0.0  \\\n",
       "2014-01-01 01:41:50                                                NaN          \n",
       "2014-01-01 02:06:50                                                NaN          \n",
       "2014-01-01 02:31:50                                                NaN          \n",
       "2014-01-01 02:56:50                                                NaN          \n",
       "2014-01-01 03:21:50                                                NaN          \n",
       "\n",
       "                     index__mean_n_absolute_max__number_of_maxima_7  \n",
       "2014-01-01 01:41:50                                             NaN  \n",
       "2014-01-01 02:06:50                                             NaN  \n",
       "2014-01-01 02:31:50                                             NaN  \n",
       "2014-01-01 02:56:50                                             NaN  \n",
       "2014-01-01 03:21:50                                             NaN  \n",
       "\n",
       "[5 rows x 1566 columns]"
      ]
     },
     "execution_count": 15,
     "metadata": {},
     "output_type": "execute_result"
    }
   ],
   "source": [
    "from tsfresh.feature_extraction import extract_features\n",
    "from tsfresh.feature_extraction import ComprehensiveFCParameters\n",
    "\n",
    "settings = ComprehensiveFCParameters()\n",
    "extract_features(data, column_id='Time', default_fc_parameters=settings)\n"
   ]
  },
  {
   "cell_type": "code",
   "execution_count": null,
   "id": "43ed9bb6",
   "metadata": {},
   "outputs": [],
   "source": []
  }
 ],
 "metadata": {
  "kernelspec": {
   "display_name": "Python 3 (ipykernel)",
   "language": "python",
   "name": "python3"
  },
  "language_info": {
   "codemirror_mode": {
    "name": "ipython",
    "version": 3
   },
   "file_extension": ".py",
   "mimetype": "text/x-python",
   "name": "python",
   "nbconvert_exporter": "python",
   "pygments_lexer": "ipython3",
   "version": "3.10.8"
  }
 },
 "nbformat": 4,
 "nbformat_minor": 5
}
