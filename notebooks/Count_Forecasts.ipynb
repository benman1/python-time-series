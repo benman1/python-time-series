{
 "cells": [
  {
   "cell_type": "code",
   "execution_count": 13,
   "id": "696c2bf3",
   "metadata": {},
   "outputs": [],
   "source": [
    "from statsforecast import StatsForecast\n",
    "from statsforecast.models import (\n",
    "    CrostonClassic,\n",
    "    CrostonSBA, \n",
    "    TSB,    \n",
    "    ADIDA,     \n",
    "    IMAPA,\n",
    ")\n",
    "from datasetsforecast.m5 import M5\n",
    "df_total, *_ = M5.load('./data')\n",
    "\n",
    "n_series = 8 \n",
    "uids = df_total['unique_id'].unique()[:n_series]\n",
    "df = df_total.query('unique_id in @uids')"
   ]
  },
  {
   "cell_type": "code",
   "execution_count": 50,
   "id": "c376296f",
   "metadata": {},
   "outputs": [],
   "source": [
    "dates = df['ds'].unique()[-28:] # last 28 days\n",
    "train = df.query('ds not in @dates')\n",
    "test = df.query('ds in @dates')"
   ]
  },
  {
   "cell_type": "code",
   "execution_count": 43,
   "id": "ef8f1373",
   "metadata": {},
   "outputs": [
    {
     "data": {
      "text/html": [
       "<div>\n",
       "<style scoped>\n",
       "    .dataframe tbody tr th:only-of-type {\n",
       "        vertical-align: middle;\n",
       "    }\n",
       "\n",
       "    .dataframe tbody tr th {\n",
       "        vertical-align: top;\n",
       "    }\n",
       "\n",
       "    .dataframe thead th {\n",
       "        text-align: right;\n",
       "    }\n",
       "</style>\n",
       "<table border=\"1\" class=\"dataframe\">\n",
       "  <thead>\n",
       "    <tr style=\"text-align: right;\">\n",
       "      <th></th>\n",
       "      <th>unique_id</th>\n",
       "      <th>ds</th>\n",
       "      <th>CrostonClassic</th>\n",
       "      <th>CrostonSBA</th>\n",
       "      <th>TSB</th>\n",
       "      <th>ADIDA</th>\n",
       "      <th>IMAPA</th>\n",
       "    </tr>\n",
       "  </thead>\n",
       "  <tbody>\n",
       "    <tr>\n",
       "      <th>0</th>\n",
       "      <td>FOODS_1_001_CA_1</td>\n",
       "      <td>2016-05-23</td>\n",
       "      <td>0.898247</td>\n",
       "      <td>0.853334</td>\n",
       "      <td>0.434313</td>\n",
       "      <td>0.791852</td>\n",
       "      <td>0.705835</td>\n",
       "    </tr>\n",
       "    <tr>\n",
       "      <th>1</th>\n",
       "      <td>FOODS_1_001_CA_1</td>\n",
       "      <td>2016-05-24</td>\n",
       "      <td>0.898247</td>\n",
       "      <td>0.853334</td>\n",
       "      <td>0.434313</td>\n",
       "      <td>0.791852</td>\n",
       "      <td>0.705835</td>\n",
       "    </tr>\n",
       "    <tr>\n",
       "      <th>2</th>\n",
       "      <td>FOODS_1_001_CA_1</td>\n",
       "      <td>2016-05-25</td>\n",
       "      <td>0.898247</td>\n",
       "      <td>0.853334</td>\n",
       "      <td>0.434313</td>\n",
       "      <td>0.791852</td>\n",
       "      <td>0.705835</td>\n",
       "    </tr>\n",
       "    <tr>\n",
       "      <th>3</th>\n",
       "      <td>FOODS_1_001_CA_1</td>\n",
       "      <td>2016-05-26</td>\n",
       "      <td>0.898247</td>\n",
       "      <td>0.853334</td>\n",
       "      <td>0.434313</td>\n",
       "      <td>0.791852</td>\n",
       "      <td>0.705835</td>\n",
       "    </tr>\n",
       "    <tr>\n",
       "      <th>4</th>\n",
       "      <td>FOODS_1_001_CA_1</td>\n",
       "      <td>2016-05-27</td>\n",
       "      <td>0.898247</td>\n",
       "      <td>0.853334</td>\n",
       "      <td>0.434313</td>\n",
       "      <td>0.791852</td>\n",
       "      <td>0.705835</td>\n",
       "    </tr>\n",
       "  </tbody>\n",
       "</table>\n",
       "</div>"
      ],
      "text/plain": [
       "          unique_id         ds  CrostonClassic  CrostonSBA       TSB  \\\n",
       "0  FOODS_1_001_CA_1 2016-05-23        0.898247    0.853334  0.434313   \n",
       "1  FOODS_1_001_CA_1 2016-05-24        0.898247    0.853334  0.434313   \n",
       "2  FOODS_1_001_CA_1 2016-05-25        0.898247    0.853334  0.434313   \n",
       "3  FOODS_1_001_CA_1 2016-05-26        0.898247    0.853334  0.434313   \n",
       "4  FOODS_1_001_CA_1 2016-05-27        0.898247    0.853334  0.434313   \n",
       "\n",
       "      ADIDA     IMAPA  \n",
       "0  0.791852  0.705835  \n",
       "1  0.791852  0.705835  \n",
       "2  0.791852  0.705835  \n",
       "3  0.791852  0.705835  \n",
       "4  0.791852  0.705835  "
      ]
     },
     "execution_count": 43,
     "metadata": {},
     "output_type": "execute_result"
    }
   ],
   "source": [
    "# Create a list of models and instantiation parameters \n",
    "models = [\n",
    "    CrostonClassic(),\n",
    "    CrostonSBA(),\n",
    "    TSB(alpha_d=0.2, alpha_p=0.2),\n",
    "    ADIDA(),\n",
    "    IMAPA(),\n",
    "]\n",
    "sf = StatsForecast(\n",
    "    df=train, \n",
    "    models=models, \n",
    "    freq='D',\n",
    "    n_jobs=-1\n",
    ")\n",
    "horizon = 28 \n",
    "forecasts = sf.forecast(h=horizon).reset_index()\n",
    "forecasts.head()"
   ]
  },
  {
   "cell_type": "code",
   "execution_count": 60,
   "id": "05e008dc",
   "metadata": {},
   "outputs": [
    {
     "name": "stdout",
     "output_type": "stream",
     "text": [
      "CrostonClassic: 0.856\n",
      "CrostonSBA: 0.860\n",
      "TSB: 0.889\n",
      "ADIDA: 0.860\n",
      "IMAPA: 0.869\n"
     ]
    },
    {
     "name": "stderr",
     "output_type": "stream",
     "text": [
      "/opt/anaconda3/envs/time_series/lib/python3.10/site-packages/sktime/performance_metrics/forecasting/_classes.py:422: UserWarning: y_pred and y_true do not have the same column index. This may indicate incorrect objects passed to the metric. Indices of y_true will be used for y_pred.\n",
      "  warn(\n",
      "/opt/anaconda3/envs/time_series/lib/python3.10/site-packages/sktime/performance_metrics/forecasting/_classes.py:422: UserWarning: y_pred and y_true do not have the same column index. This may indicate incorrect objects passed to the metric. Indices of y_true will be used for y_pred.\n",
      "  warn(\n",
      "/opt/anaconda3/envs/time_series/lib/python3.10/site-packages/sktime/performance_metrics/forecasting/_classes.py:422: UserWarning: y_pred and y_true do not have the same column index. This may indicate incorrect objects passed to the metric. Indices of y_true will be used for y_pred.\n",
      "  warn(\n",
      "/opt/anaconda3/envs/time_series/lib/python3.10/site-packages/sktime/performance_metrics/forecasting/_classes.py:422: UserWarning: y_pred and y_true do not have the same column index. This may indicate incorrect objects passed to the metric. Indices of y_true will be used for y_pred.\n",
      "  warn(\n",
      "/opt/anaconda3/envs/time_series/lib/python3.10/site-packages/sktime/performance_metrics/forecasting/_classes.py:422: UserWarning: y_pred and y_true do not have the same column index. This may indicate incorrect objects passed to the metric. Indices of y_true will be used for y_pred.\n",
      "  warn(\n"
     ]
    }
   ],
   "source": [
    "from sktime.performance_metrics.forecasting import MeanSquaredScaledError\n",
    "\n",
    "\n",
    "rmsse = MeanSquaredScaledError(square_root=True)\n",
    "\n",
    "def show_results(test, forecasts):\n",
    "    test_df = test.merge(forecasts, how='left', on=['unique_id', 'ds'])\n",
    "    cols = test_df.drop(columns=[\"unique_id\", \"ds\", \"y\"])\n",
    "    for col in cols:\n",
    "        print(f'{col}: %0.3f' % rmsse(test_df[col], test_df.y, y_train=train.y))\n",
    "\n",
    "show_results(test, forecasts)"
   ]
  },
  {
   "cell_type": "code",
   "execution_count": null,
   "id": "08af9e77",
   "metadata": {},
   "outputs": [],
   "source": []
  }
 ],
 "metadata": {
  "kernelspec": {
   "display_name": "Python 3 (ipykernel)",
   "language": "python",
   "name": "python3"
  },
  "language_info": {
   "codemirror_mode": {
    "name": "ipython",
    "version": 3
   },
   "file_extension": ".py",
   "mimetype": "text/x-python",
   "name": "python",
   "nbconvert_exporter": "python",
   "pygments_lexer": "ipython3",
   "version": "3.10.8"
  }
 },
 "nbformat": 4,
 "nbformat_minor": 5
}
