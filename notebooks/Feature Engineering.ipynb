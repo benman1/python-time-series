{
 "cells": [
  {
   "cell_type": "markdown",
   "id": "6a06a10a-ee82-40ce-8821-3da680af4b95",
   "metadata": {},
   "source": [
    "<a href=\"https://colab.research.google.com/github/PacktPublishing/Machine-Learning-for-Time-Series-with-Python/blob/master/chapter3/Preprocessing.ipynb\" target=\"_parent\\\"><img src=\"https://colab.research.google.com/assets/colab-badge.svg\" alt=\"Open In Colab\"/></a>"
   ]
  },
  {
   "cell_type": "markdown",
   "id": "503b0b9a-71a9-475c-9906-e59fb9853932",
   "metadata": {},
   "source": [
    "This notebook is mainly about derived date features."
   ]
  },
  {
   "cell_type": "code",
   "execution_count": null,
   "id": "614a3348-214c-4472-969d-e7db10664075",
   "metadata": {},
   "outputs": [],
   "source": [
    "pip install -U tsfresh workalendar astral \"featuretools[tsfresh]\" sktime"
   ]
  },
  {
   "cell_type": "markdown",
   "id": "5aa0e489-638d-46e7-8850-518c616e22e5",
   "metadata": {},
   "source": [
    "## Holidays"
   ]
  },
  {
   "cell_type": "code",
   "execution_count": null,
   "id": "9efee10c-2d3d-4265-886a-50e87e380a97",
   "metadata": {},
   "outputs": [],
   "source": [
    "from workalendar.europe.united_kingdom import UnitedKingdom\n",
    "UnitedKingdom().holidays()"
   ]
  },
  {
   "cell_type": "code",
   "execution_count": null,
   "id": "1539b652-a1f8-41a6-8410-cccad3d5edb6",
   "metadata": {},
   "outputs": [],
   "source": [
    "from typing import List\n",
    "from dateutil.relativedelta import relativedelta, TH\n",
    "import datetime\n",
    "from workalendar.usa import California\n",
    "\n",
    "def create_custom_holidays(year) -> List:\n",
    "      custom_holidays = California().holidays()\n",
    "      custom_holidays.append((\n",
    "        (datetime.datetime(year, 11, 1) + relativedelta(weekday=TH(+4)) + datetime.timedelta(days=1)).date(),\n",
    "        \"Black Friday\"\n",
    "      ))\n",
    "      return {k: v for (k, v) in custom_holidays}\n",
    "\n",
    "custom_holidays = create_custom_holidays(2021)"
   ]
  },
  {
   "cell_type": "code",
   "execution_count": null,
   "id": "bec50434-e7b4-409b-8f37-9b400ce0a2bf",
   "metadata": {},
   "outputs": [],
   "source": [
    "custom_holidays"
   ]
  },
  {
   "cell_type": "code",
   "execution_count": null,
   "id": "3e8c9a76-0ec7-40c8-8eda-e7e480281501",
   "metadata": {},
   "outputs": [],
   "source": [
    "def is_holiday(current_date: datetime.date):\n",
    "    \"\"\"Determine if we have a holiday.\"\"\"\n",
    "    return custom_holidays.get(current_date, False)\n",
    "\n",
    "today = datetime.date(2021, 4, 11)\n",
    "is_holiday(today)"
   ]
  },
  {
   "cell_type": "markdown",
   "id": "ddb63805-b782-4944-a88b-4996783177f7",
   "metadata": {},
   "source": [
    "## Date Annotations"
   ]
  },
  {
   "cell_type": "code",
   "execution_count": null,
   "id": "eab731b5-fa14-4c8a-bd39-0a805c36aa80",
   "metadata": {},
   "outputs": [],
   "source": [
    "import calendar\n",
    "\n",
    "calendar.monthrange(2021, 1)"
   ]
  },
  {
   "cell_type": "code",
   "execution_count": null,
   "id": "f9d4a8b3-fea7-4e75-86e4-fff5cc3ffa9e",
   "metadata": {},
   "outputs": [],
   "source": [
    "from datetime import date\n",
    "def year_anchor(current_date: datetime.date):\n",
    "      return (\n",
    "        (current_date - date(current_date.year, 1, 1)).days,\n",
    "        (date(current_date.year, 12, 31) - current_date).days,\n",
    "      )\n",
    "\n",
    "year_anchor(today)\n"
   ]
  },
  {
   "cell_type": "code",
   "execution_count": null,
   "id": "d6a4e6d4-3a68-48a5-b564-29e9f7b0b72d",
   "metadata": {},
   "outputs": [],
   "source": [
    "def month_anchor(current_date: datetime.date):\n",
    "      last_day = calendar.monthrange(current_date.year, current_date.month)[0]\n",
    "    \n",
    "      return (\n",
    "        (current_date - datetime.date(current_date.year, current_date.month, 1)).days,\n",
    "        (current_date - datetime.date(current_date.year, current_date.month, last_day)).days,\n",
    "      )\n",
    "\n",
    "month_anchor(today)\n"
   ]
  },
  {
   "cell_type": "markdown",
   "id": "5453766c-e8d5-4fd8-88a8-4b87602c506f",
   "metadata": {},
   "source": [
    "## Paydays"
   ]
  },
  {
   "cell_type": "code",
   "execution_count": null,
   "id": "5fa16210-e016-4cb6-85b9-84f964255f81",
   "metadata": {},
   "outputs": [],
   "source": [
    "def get_last_friday(current_date: datetime.date, weekday=calendar.FRIDAY):\n",
    "      return max(week[weekday]\n",
    "        for week in calendar.monthcalendar(\n",
    "            current_date.year, current_date.month\n",
    "        ))\n",
    "\n",
    "get_last_friday(today)\n"
   ]
  },
  {
   "cell_type": "markdown",
   "id": "2a2cca85-1e9f-4e3c-ad34-a6b1122e217a",
   "metadata": {},
   "source": [
    "## Seasons"
   ]
  },
  {
   "cell_type": "code",
   "execution_count": null,
   "id": "6abd71ed-2478-4c8a-a578-1b961e8a1de4",
   "metadata": {},
   "outputs": [],
   "source": [
    "YEAR = 2021\n",
    "seasons = [\n",
    "    ('winter', (date(YEAR,  1,  1),  date(YEAR,  3, 20))),\n",
    "    ('spring', (date(YEAR,  3, 21),  date(YEAR,  6, 20))),\n",
    "    ('summer', (date(YEAR,  6, 21),  date(YEAR,  9, 22))),\n",
    "    ('autumn', (date(YEAR,  9, 23),  date(YEAR, 12, 20))),\n",
    "    ('winter', (date(YEAR, 12, 21),  date(YEAR, 12, 31)))\n",
    "]\n",
    "\n",
    "def is_in_interval(current_date: datetime.date, seasons):\n",
    "      return next(season for season, (start, end) in seasons\n",
    "                if start <= current_date.replace(year=YEAR) <= end)\n",
    "    \n",
    "is_in_interval(today, seasons)\n"
   ]
  },
  {
   "cell_type": "markdown",
   "id": "bff1e4f1-03a6-4710-8fcc-93ca10e529c1",
   "metadata": {},
   "source": [
    "## Sun and Moon"
   ]
  },
  {
   "cell_type": "code",
   "execution_count": null,
   "id": "2e79e8c5-a2c9-4ce0-bc55-b15c8564a877",
   "metadata": {},
   "outputs": [],
   "source": [
    "!pip install astral"
   ]
  },
  {
   "cell_type": "code",
   "execution_count": null,
   "id": "92c55bb2-caf3-4a70-b51a-84bfc073b2ce",
   "metadata": {},
   "outputs": [],
   "source": [
    "from astral.sun import sun\n",
    "from astral import LocationInfo\n",
    "CITY = LocationInfo(\"London\", \"England\", \"Europe/London\", 51.5, -0.116)\n",
    "def get_sunrise_dusk(current_date: datetime.date, city_name='London'):\n",
    "      s = sun(CITY.observer, date=current_date)\n",
    "      sunrise = s['sunrise']\n",
    "      dusk = s['dusk']\n",
    "      return (sunrise - dusk).seconds / 3600\n",
    "\n",
    "get_sunrise_dusk(today)\n"
   ]
  },
  {
   "cell_type": "markdown",
   "id": "98f041ac-5c80-408e-909a-3364975f6be0",
   "metadata": {},
   "source": [
    "## Business Days"
   ]
  },
  {
   "cell_type": "code",
   "execution_count": null,
   "id": "aac6eeef-2d1b-4bf2-a2cb-75a9c4648a93",
   "metadata": {},
   "outputs": [],
   "source": [
    "def get_business_days(current_date: datetime.date):\n",
    "      last_day = calendar.monthrange(current_date.year, current_date.month)[1]\n",
    "      rng = pd.date_range(current_date.replace(day=1), periods=last_day, freq='D')\n",
    "      business_days = pd.bdate_range(rng[0], rng[-1])\n",
    "      return len(business_days), last_day - len(business_days)\n",
    "\n",
    "get_business_days(date.today())\n"
   ]
  },
  {
   "cell_type": "markdown",
   "id": "91f21e9b-c326-472b-a59a-85a908502fe4",
   "metadata": {},
   "source": [
    "# Automated Feature Extraction"
   ]
  },
  {
   "cell_type": "code",
   "execution_count": null,
   "id": "7df98e51-5f84-49fd-b13c-a7a488bcc4ea",
   "metadata": {},
   "outputs": [],
   "source": [
    "import featuretools as ft\n",
    "from featuretools.primitives import Minute, Hour, Day, Month, Year, Weekday\n",
    "\n",
    "data = pd.DataFrame(\n",
    "    {'Time': ['2014-01-01 01:41:50',\n",
    "              '2014-01-01 02:06:50',\n",
    "              '2014-01-01 02:31:50',\n",
    "              '2014-01-01 02:56:50',\n",
    "              '2014-01-01 03:21:50'],\n",
    "     'Target': [0, 0, 0, 0, 1]}\n",
    ")        \n",
    "data['index'] = data.index\n",
    "es = ft.EntitySet('My EntitySet')\n",
    "es.entity_from_dataframe(\n",
    "    entity_id='main_data_table',\n",
    "    index='index',\n",
    "    dataframe=data,\n",
    "    time_index='Time'\n",
    ")\n",
    "fm, features = ft.dfs(\n",
    "    entityset=es, \n",
    "    target_entity='main_data_table', \n",
    "    trans_primitives=[Minute, Hour, Day, Month, Year, Weekday]\n",
    ")\n"
   ]
  },
  {
   "cell_type": "code",
   "execution_count": null,
   "id": "39b85175-58d9-44bc-8374-09af58f245d3",
   "metadata": {},
   "outputs": [],
   "source": [
    "fm"
   ]
  },
  {
   "cell_type": "code",
   "execution_count": null,
   "id": "11f5581e-0ce2-4a90-9f0c-5aeefbaa2096",
   "metadata": {},
   "outputs": [],
   "source": [
    "from tsfresh.feature_extraction import extract_features\n",
    "from tsfresh.feature_extraction import ComprehensiveFCParameters\n",
    "\n",
    "settings = ComprehensiveFCParameters()\n",
    "extract_features(data, column_id='Time', default_fc_parameters=settings)\n"
   ]
  }
 ],
 "metadata": {
  "kernelspec": {
   "display_name": "Python 3 (ipykernel)",
   "language": "python",
   "name": "python3"
  },
  "language_info": {
   "codemirror_mode": {
    "name": "ipython",
    "version": 3
   },
   "file_extension": ".py",
   "mimetype": "text/x-python",
   "name": "python",
   "nbconvert_exporter": "python",
   "pygments_lexer": "ipython3",
   "version": "3.10.8"
  }
 },
 "nbformat": 4,
 "nbformat_minor": 5
}
