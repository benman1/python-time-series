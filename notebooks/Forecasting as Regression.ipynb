{
 "cells": [
  {
   "cell_type": "markdown",
   "id": "b0d179a2",
   "metadata": {},
   "source": [
    "## XGBoost"
   ]
  },
  {
   "cell_type": "code",
   "execution_count": null,
   "id": "b83cfbd2",
   "metadata": {},
   "outputs": [],
   "source": [
    "import pandas as pd\n",
    "owid_covid = pd.read_csv(\"https://covid.ourworldindata.org/data/owid-covid-data.csv\")\n",
    "owid_covid[\"date\"] = pd.to_datetime(owid_covid[\"date\"])\n",
    "df = owid_covid[owid_covid.location == \"France\"].set_index(\"date\", drop=True).resample('D').interpolate(method='linear').reset_index()\n"
   ]
  },
  {
   "cell_type": "code",
   "execution_count": null,
   "id": "9b9b21d0",
   "metadata": {},
   "outputs": [],
   "source": [
    "from sklearn.base import TransformerMixin, BaseEstimator\n",
    "class DateFeatures(TransformerMixin, BaseEstimator):\n",
    "    features = [\n",
    "        \"hour\",\n",
    "        \"year\",\n",
    "        \"day\",\n",
    "        \"weekday\",\n",
    "        \"month\",\n",
    "        \"quarter\",\n",
    "    ]\n",
    "    \n",
    "    def __init__(self):\n",
    "        super().__init__()\n",
    "    def transform(self, df: pd.DataFrame):\n",
    "        Xt = []\n",
    "        for col in df.columns:\n",
    "            for feature in self.features:\n",
    "                date_feature = getattr(\n",
    "                    getattr(\n",
    "                        df[col], \"dt\"\n",
    "                    ), feature\n",
    "                )\n",
    "                date_feature.name = f\"{col}_{feature}\"\n",
    "                Xt.append(date_feature)\n",
    "        \n",
    "        df2 = pd.concat(Xt, axis=1)\n",
    "        return df2\n",
    "    def fit(self, df: pd.DataFrame, y=None, **fit_params):\n",
    "        return self\n"
   ]
  },
  {
   "cell_type": "code",
   "execution_count": null,
   "id": "4f0d76f0",
   "metadata": {},
   "outputs": [],
   "source": [
    "from sklearn.compose import ColumnTransformer\n",
    "from sklearn.pipeline import Pipeline, make_pipeline\n",
    "preprocessor = ColumnTransformer(\n",
    "    transformers=[(\n",
    "        \"date\",\n",
    "        make_pipeline(\n",
    "            DateFeatures(),\n",
    "            ColumnTransformer(transformers=[\n",
    "                (\"cyclical\", CyclicalFeatures(),\n",
    "                  [\"date_day\", \"date_weekday\", \"date_month\"]\n",
    "                )\n",
    "            ], remainder=\"passthrough\")\n",
    "        ), [\"date\"],\n",
    "  ),], remainder=\"passthrough\"\n",
    ")\n"
   ]
  },
  {
   "cell_type": "code",
   "execution_count": null,
   "id": "e9a1bc3f",
   "metadata": {},
   "outputs": [],
   "source": [
    "from xgboost import XGBRegressor\n",
    "pipeline = Pipeline(\n",
    "    [\n",
    "        (\"preprocessing\", preprocessor),\n",
    "         (\"xgb\", XGBRegressor(objective=\"reg:squarederror\", n_estimators=1000))\n",
    "    ]\n",
    ")\n"
   ]
  },
  {
   "cell_type": "code",
   "execution_count": null,
   "id": "24ffb89c",
   "metadata": {},
   "outputs": [],
   "source": [
    "TRAIN_SIZE = int(len(df) * 0.9)\n",
    "HORIZON = 1\n",
    "TARGET_COL = \"new_cases\"\n"
   ]
  },
  {
   "cell_type": "code",
   "execution_count": null,
   "id": "e8e222a6",
   "metadata": {},
   "outputs": [],
   "source": [
    "X_train, X_test = df.iloc[HORIZON:TRAIN_SIZE], df.iloc[TRAIN_SIZE+HORIZON:]\n",
    "y_train = df.shift(periods=HORIZON).iloc[HORIZON:TRAIN_SIZE][TARGET_COL]\n",
    "y_test = df.shift(periods=HORIZON).iloc[TRAIN_SIZE+HORIZON:][TARGET_COL]\n"
   ]
  },
  {
   "cell_type": "code",
   "execution_count": null,
   "id": "ca1f1823",
   "metadata": {},
   "outputs": [],
   "source": [
    "FEATURE_COLS = [\"date\"]\n",
    "pipeline.fit(X_train[FEATURE_COLS], y_train)\n"
   ]
  },
  {
   "cell_type": "code",
   "execution_count": null,
   "id": "583a9f0f",
   "metadata": {},
   "outputs": [],
   "source": [
    "MAX_HORIZON = 90\n",
    "X_test_horizon = pd.Series(pd.date_range(\n",
    "    start=df.date.min(), \n",
    "    periods=len(df) + MAX_HORIZON,\n",
    "    name=\"date\"\n",
    ")).reset_index()\n"
   ]
  },
  {
   "cell_type": "code",
   "execution_count": null,
   "id": "1d83c95e",
   "metadata": {},
   "outputs": [],
   "source": [
    "forecasted = pd.concat(\n",
    "    [pd.Series(pipeline.predict(X_test_horizon[FEATURE_COLS])), pd.Series(X_test_horizon.date)],\n",
    "    axis=1\n",
    ")\n",
    "forecasted.columns = [TARGET_COL, \"date\"]\n"
   ]
  },
  {
   "cell_type": "code",
   "execution_count": null,
   "id": "136ba3b1",
   "metadata": {},
   "outputs": [],
   "source": [
    "actual = pd.concat(\n",
    "    [pd.Series(df[TARGET_COL]), pd.Series(df.date)],\n",
    "    axis=1\n",
    ")\n",
    "actual.columns = [TARGET_COL, \"date\"]\n"
   ]
  },
  {
   "cell_type": "code",
   "execution_count": null,
   "id": "9c31e382",
   "metadata": {},
   "outputs": [],
   "source": [
    "fig, ax = plt.subplots(figsize=(12, 6))\n",
    "forecasted.set_index(\"date\").plot(linestyle='--', ax=ax)\n",
    "actual.set_index(\"date\").plot(linestyle='-.', ax=ax)\n",
    "plt.legend([\"forecast\", \"actual\"])\n"
   ]
  },
  {
   "cell_type": "code",
   "execution_count": null,
   "id": "853fbe90",
   "metadata": {},
   "outputs": [],
   "source": [
    "from sklearn.metrics import mean_squared_error\n",
    "test_data = actual.merge(forecasted, on=\"date\", suffixes=(\"_actual\", \"_predicted\"))\n",
    "mse = mean_squared_error(test_data.new_cases_actual, test_data.new_cases_predicted, squared=False)  # RMSE\n",
    "print(\"The root mean squared error (RMSE) on test set: {:.2f}\".format(mse))\n"
   ]
  },
  {
   "cell_type": "markdown",
   "id": "2457c191",
   "metadata": {},
   "source": [
    "## SkTime"
   ]
  },
  {
   "cell_type": "code",
   "execution_count": null,
   "id": "47fa5aeb",
   "metadata": {},
   "outputs": [],
   "source": [
    "from sklearn.neighbors import KNeighborsRegressor\n",
    "from sktime.forecasting.compose import make_reduction\n",
    "regressor = KNeighborsRegressor(n_neighbors=1)\n",
    "forecaster = make_reduction(regressor, window_length=15, strategy=\"recursive\") forecaster.fit(y_train) \n",
    "y_pred = forecaster.predict(fh)\n"
   ]
  },
  {
   "cell_type": "markdown",
   "id": "8d2421be",
   "metadata": {},
   "source": [
    "## LightGBM"
   ]
  },
  {
   "cell_type": "code",
   "execution_count": null,
   "id": "5c54a337",
   "metadata": {},
   "outputs": [],
   "source": [
    "import pandas as pd\n",
    "from darts.timeseries import TimeSeries\n",
    "from darts.models.forecasting.lgbm import LightGBMModel\n",
    "df = pd.read_csv('AirPassengers.csv', delimiter=\",\")\n",
    "series = TimeSeries.from_dataframe(df, 'Month', ['#Passengers'])\n",
    "train, val = series.split_before(pd.Timestamp('19540101'))\n",
    "model = LightGBM(lags=15)\n",
    "model.fit(train)\n",
    "forecast = model.predict_time_series(val)\n"
   ]
  },
  {
   "cell_type": "code",
   "execution_count": null,
   "id": "d1c4721e",
   "metadata": {},
   "outputs": [],
   "source": [
    "add_encoders={\n",
    "    'cyclic': {'future': ['month']},\n",
    "    'datetime_attribute': {'future': ['hour', 'dayofweek']},\n",
    "    'position': {'past': ['relative'], 'future': ['relative']},\n",
    "    'transformer': Scaler()\n",
    "}\n"
   ]
  },
  {
   "cell_type": "markdown",
   "id": "6f5b365a",
   "metadata": {},
   "source": [
    "## CatBoost"
   ]
  },
  {
   "cell_type": "code",
   "execution_count": null,
   "id": "12abc04d",
   "metadata": {},
   "outputs": [],
   "source": [
    "from sktime.forecasting.compose import make_reduction\n",
    "import lightgbm as lgb\n",
    "regressor = lgb.LGBMRegressor()\n",
    "forecaster = make_reduction(\n",
    "    regressor,\n",
    "    window_length=10,\n",
    "    strategy=\"recursive\",\n",
    "    scitype=\"tabular-regressor\"\n",
    ")\n"
   ]
  },
  {
   "cell_type": "markdown",
   "id": "eb9c48e4",
   "metadata": {},
   "source": [
    "## Ensembles with Kats"
   ]
  },
  {
   "cell_type": "code",
   "execution_count": null,
   "id": "7dbee781",
   "metadata": {},
   "outputs": [],
   "source": [
    "conda install -c conda-forge fbprophet "
   ]
  },
  {
   "cell_type": "code",
   "execution_count": null,
   "id": "383fbc16",
   "metadata": {},
   "outputs": [],
   "source": [
    "pip install kats"
   ]
  },
  {
   "cell_type": "code",
   "execution_count": null,
   "id": "b803570e",
   "metadata": {},
   "outputs": [],
   "source": [
    "df = owid_covid[owid_covid.location == \"France\"].set_index(\"date\", drop=True).resample('D').interpolate(method='linear').reset_index()"
   ]
  },
  {
   "cell_type": "code",
   "execution_count": null,
   "id": "3279579c",
   "metadata": {},
   "outputs": [],
   "source": [
    "from kats.models.ensemble.ensemble import EnsembleParams, BaseModelParams\n",
    "from kats.models.ensemble.kats_ensemble import KatsEnsemble\n",
    "from kats.models import linear_model, quadratic_model\n",
    "model_params = EnsembleParams(\n",
    "            [\n",
    "                BaseModelParams(\"linear\", linear_model.LinearModelParams()),\n",
    "                BaseModelParams(\"quadratic\", quadratic_model.QuadraticModelParams()),\n",
    "            ]\n",
    "        )\n"
   ]
  },
  {
   "cell_type": "code",
   "execution_count": null,
   "id": "776ba177",
   "metadata": {},
   "outputs": [],
   "source": [
    "KatsEnsembleParam = {\n",
    "    \"models\": model_params,\n",
    "    \"aggregation\": \"weightedavg\",\n",
    "    \"seasonality_length\": 30,\n",
    "    \"decomposition_method\": \"additive\",\n",
    "}\n"
   ]
  },
  {
   "cell_type": "code",
   "execution_count": null,
   "id": "0b1efaf0",
   "metadata": {},
   "outputs": [],
   "source": [
    "from kats.consts import TimeSeriesData\n",
    "TARGET_COL = \"new_cases\"\n",
    "df_ts = TimeSeriesData(\n",
    "    value=df[TARGET_COL], time=df[\"date\"]\n",
    ")\n"
   ]
  },
  {
   "cell_type": "code",
   "execution_count": null,
   "id": "b34f1506",
   "metadata": {},
   "outputs": [],
   "source": [
    "m = KatsEnsemble(\n",
    "    data=df_ts, \n",
    "    params=KatsEnsembleParam\n",
    ").fit()\n"
   ]
  },
  {
   "cell_type": "code",
   "execution_count": null,
   "id": "3fc8da3c",
   "metadata": {},
   "outputs": [],
   "source": [
    "m.predict(steps=90)\n",
    "m.aggregate()\n",
    "m.plot()\n",
    "plt.ylabel(TARGET_COL)\n"
   ]
  },
  {
   "cell_type": "code",
   "execution_count": null,
   "id": "d5e1eecd",
   "metadata": {},
   "outputs": [],
   "source": []
  }
 ],
 "metadata": {
  "kernelspec": {
   "display_name": "Python 3 (ipykernel)",
   "language": "python",
   "name": "python3"
  },
  "language_info": {
   "codemirror_mode": {
    "name": "ipython",
    "version": 3
   },
   "file_extension": ".py",
   "mimetype": "text/x-python",
   "name": "python",
   "nbconvert_exporter": "python",
   "pygments_lexer": "ipython3",
   "version": "3.10.8"
  }
 },
 "nbformat": 4,
 "nbformat_minor": 5
}
