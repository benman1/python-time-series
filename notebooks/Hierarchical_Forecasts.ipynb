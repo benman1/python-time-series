{
 "cells": [
  {
   "cell_type": "code",
   "execution_count": 159,
   "id": "6ce3afc5",
   "metadata": {},
   "outputs": [],
   "source": [
    "import numpy as np\n",
    "import pandas as pd\n",
    "import matplotlib.pyplot as plt\n",
    "\n",
    "# Set the seed for reproducibility\n",
    "np.random.seed(42)\n",
    "# Time steps\n",
    "T = np.arange(0, 365)\n",
    "\n",
    "\n",
    "def create_time_series(\n",
    "    t: np.ndarray,\n",
    "    seasonalities: list[tuple[int, int]] = [(10, 2), (5, 4)],\n",
    "    trend_coef: float = 0.1,\n",
    "    noise_level: float = 2.0,\n",
    "    plot: bool = False\n",
    "):\n",
    "    \"\"\"Create a time series with a linear trend and seasonalities.\n",
    "    \n",
    "    Args:\n",
    "        * t: an array of the time index\n",
    "        * seasonalities: each list entry describes amplitude and frequency of a seasonal component.\n",
    "        * trend_coef: the linear trend coefficient.\n",
    "        * the noise level\n",
    "        * plot (bool): if True, plot the time series\n",
    "    \"\"\"\n",
    "    trend = trend_coef * t\n",
    "    noise = np.random.normal(0, noise_level, len(t))\n",
    "    time_series = trend + noise\n",
    "    for amplitude, frequency in seasonalities:\n",
    "        component = amplitude * np.sin(frequency * np.pi * t / 365)\n",
    "        time_series += component\n",
    "\n",
    "    if plot:\n",
    "        plt.figure(figsize=(12, 6))\n",
    "        plt.plot(t, time_series, label='Artificial Time Series')\n",
    "        plt.xlabel('Time')\n",
    "    return time_series\n",
    "\n",
    "\n",
    "\n",
    "ts_at_bottom_level = pd.DataFrame(\n",
    "    index=pd.date_range(start=\"2023-04-01\", periods=365)\n",
    ")\n",
    "for column in [\"AA\", \"AB\", \"BA\", \"BB\"]:\n",
    "    seasonal = np.random.randint(1, 15, size=6)\n",
    "    seasonalities = list(map(tuple, seasonal.reshape(-1, 2)))\n",
    "    ts_at_bottom_level[column] = create_time_series(\n",
    "        T, seasonalities=seasonalities, trend_coef=2 + np.random.randn()\n",
    "    )"
   ]
  },
  {
   "cell_type": "code",
   "execution_count": 160,
   "id": "3270bae4",
   "metadata": {},
   "outputs": [
    {
     "data": {
      "text/html": [
       "<div>\n",
       "<style scoped>\n",
       "    .dataframe tbody tr th:only-of-type {\n",
       "        vertical-align: middle;\n",
       "    }\n",
       "\n",
       "    .dataframe tbody tr th {\n",
       "        vertical-align: top;\n",
       "    }\n",
       "\n",
       "    .dataframe thead th {\n",
       "        text-align: right;\n",
       "    }\n",
       "</style>\n",
       "<table border=\"1\" class=\"dataframe\">\n",
       "  <thead>\n",
       "    <tr style=\"text-align: right;\">\n",
       "      <th></th>\n",
       "      <th>AA</th>\n",
       "      <th>AB</th>\n",
       "      <th>BA</th>\n",
       "      <th>BB</th>\n",
       "    </tr>\n",
       "  </thead>\n",
       "  <tbody>\n",
       "    <tr>\n",
       "      <th>2023-04-01</th>\n",
       "      <td>4.283317</td>\n",
       "      <td>1.466347</td>\n",
       "      <td>-1.951960</td>\n",
       "      <td>-2.519840</td>\n",
       "    </tr>\n",
       "    <tr>\n",
       "      <th>2023-04-02</th>\n",
       "      <td>2.976153</td>\n",
       "      <td>2.855435</td>\n",
       "      <td>2.900329</td>\n",
       "      <td>4.234249</td>\n",
       "    </tr>\n",
       "    <tr>\n",
       "      <th>2023-04-03</th>\n",
       "      <td>4.450667</td>\n",
       "      <td>11.626423</td>\n",
       "      <td>6.541842</td>\n",
       "      <td>10.600114</td>\n",
       "    </tr>\n",
       "    <tr>\n",
       "      <th>2023-04-04</th>\n",
       "      <td>7.636099</td>\n",
       "      <td>13.995461</td>\n",
       "      <td>8.669148</td>\n",
       "      <td>17.091873</td>\n",
       "    </tr>\n",
       "    <tr>\n",
       "      <th>2023-04-05</th>\n",
       "      <td>11.613973</td>\n",
       "      <td>15.093862</td>\n",
       "      <td>9.018746</td>\n",
       "      <td>29.430580</td>\n",
       "    </tr>\n",
       "  </tbody>\n",
       "</table>\n",
       "</div>"
      ],
      "text/plain": [
       "                   AA         AB        BA         BB\n",
       "2023-04-01   4.283317   1.466347 -1.951960  -2.519840\n",
       "2023-04-02   2.976153   2.855435  2.900329   4.234249\n",
       "2023-04-03   4.450667  11.626423  6.541842  10.600114\n",
       "2023-04-04   7.636099  13.995461  8.669148  17.091873\n",
       "2023-04-05  11.613973  15.093862  9.018746  29.430580"
      ]
     },
     "execution_count": 160,
     "metadata": {},
     "output_type": "execute_result"
    }
   ],
   "source": [
    "ts_at_bottom_level.head()"
   ]
  },
  {
   "cell_type": "code",
   "execution_count": 161,
   "id": "c816e2b4",
   "metadata": {},
   "outputs": [],
   "source": [
    "# We can represent the hierarchy as either an aggregate sum matrix or as a hierarchy dictionary.\n",
    "S = np.array([\n",
    "    [1, 1, 1, 1],\n",
    "    [1, 1, 0, 0],\n",
    "    [0, 0, 1, 1],\n",
    "    [1, 0, 0, 0],\n",
    "    [0, 1, 0, 0],\n",
    "    [0, 0, 1, 0],\n",
    "    [0, 0, 0, 1]\n",
    "])\n",
    "hierarchy = {\n",
    "    \"AA\": [\"A\"],\n",
    "    \"AB\": [\"A\"],\n",
    "    \"BA\": [\"B\"],\n",
    "    \"BB\": [\"B\"],\n",
    "    \"A\": [\"total\"],\n",
    "    \"B\": [\"total\"]\n",
    "}"
   ]
  },
  {
   "cell_type": "code",
   "execution_count": 162,
   "id": "211fe51f",
   "metadata": {},
   "outputs": [],
   "source": [
    "time_series = ts_at_bottom_level.assign(\n",
    "    A=ts_at_bottom_level[\"AA\"] + ts_at_bottom_level[\"AB\"],\n",
    "    B=ts_at_bottom_level[\"BA\"] + ts_at_bottom_level[\"BB\"],\n",
    ")\n",
    "time_series[\"total\"] = time_series[\"A\"] + time_series[\"B\"]"
   ]
  },
  {
   "cell_type": "code",
   "execution_count": 163,
   "id": "d7936979",
   "metadata": {},
   "outputs": [],
   "source": [
    "from darts import TimeSeries\n",
    "from darts.models import CatBoostModel\n",
    "from darts.utils.model_selection import train_test_split\n",
    "\n",
    "# Load and preprocess the data\n",
    "series = TimeSeries.from_dataframe(time_series).with_hierarchy(hierarchy)\n",
    "\n",
    "# Split the data into train and test sets\n",
    "train, test = train_test_split(series, test_size=0.2)\n",
    "\n",
    "# Train the model\n",
    "model = CatBoostModel(\n",
    "    lags=12\n",
    ")\n",
    "model.fit(train)\n",
    "\n",
    "# Forecast the test set\n",
    "forecast = model.predict(len(test))"
   ]
  },
  {
   "cell_type": "code",
   "execution_count": 164,
   "id": "c2cc87da",
   "metadata": {},
   "outputs": [
    {
     "name": "stdout",
     "output_type": "stream",
     "text": [
      "MAE: 153.7264, MSE: 44531.8967, RMSE: 175.3400\n"
     ]
    }
   ],
   "source": [
    "from darts.metrics import mae, mse, rmse\n",
    "# Evaluate the model\n",
    "mae_bottom = mae(test, forecast)\n",
    "mse_bottom = mse(test, forecast)\n",
    "rmse_bottom = rmse(test, forecast)\n",
    "print(f'MAE: {mae_bottom:.4f}, MSE: {mse_bottom:.4f}, RMSE: {rmse_bottom:.4f}')"
   ]
  },
  {
   "cell_type": "code",
   "execution_count": 165,
   "id": "4c89e0f4",
   "metadata": {},
   "outputs": [],
   "source": [
    "from darts.dataprocessing.transformers import MinTReconciliator\n",
    "\n",
    "reconciliator = MinTReconciliator(method=\"wls_val\")\n",
    "reconciliator.fit(train)\n",
    "reconciled_preds = reconciliator.transform(forecast)"
   ]
  },
  {
   "cell_type": "code",
   "execution_count": 166,
   "id": "48ff4712",
   "metadata": {},
   "outputs": [
    {
     "name": "stdout",
     "output_type": "stream",
     "text": [
      "MAE: 153.7067, MSE: 44511.2303, RMSE: 175.3358\n"
     ]
    }
   ],
   "source": [
    "mae_recon = mae(test, reconciled_preds)\n",
    "mse_recon = mse(test, reconciled_preds)\n",
    "rmse_recon = rmse(test, reconciled_preds)\n",
    "print(f'MAE: {mae_recon:.4f}, MSE: {mse_recon:.4f}, RMSE: {rmse_recon:.4f}')"
   ]
  },
  {
   "cell_type": "code",
   "execution_count": 167,
   "id": "5e3a89bf",
   "metadata": {},
   "outputs": [
    {
     "data": {
      "text/plain": [
       "-0.012833308850691297"
      ]
     },
     "execution_count": 167,
     "metadata": {},
     "output_type": "execute_result"
    }
   ],
   "source": [
    "(mae_recon - mae_bottom) / mae_bottom * 100"
   ]
  },
  {
   "cell_type": "code",
   "execution_count": null,
   "id": "cc6fa4ff",
   "metadata": {},
   "outputs": [],
   "source": []
  }
 ],
 "metadata": {
  "kernelspec": {
   "display_name": "Python 3 (ipykernel)",
   "language": "python",
   "name": "python3"
  },
  "language_info": {
   "codemirror_mode": {
    "name": "ipython",
    "version": 3
   },
   "file_extension": ".py",
   "mimetype": "text/x-python",
   "name": "python",
   "nbconvert_exporter": "python",
   "pygments_lexer": "ipython3",
   "version": "3.10.8"
  }
 },
 "nbformat": 4,
 "nbformat_minor": 5
}
