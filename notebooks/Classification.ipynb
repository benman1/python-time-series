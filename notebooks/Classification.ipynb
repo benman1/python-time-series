{
 "cells": [
  {
   "cell_type": "markdown",
   "id": "d4461288",
   "metadata": {},
   "source": [
    "## K-nearest neighbors with dynamic time warping"
   ]
  },
  {
   "cell_type": "code",
   "execution_count": null,
   "id": "7738e023",
   "metadata": {},
   "outputs": [],
   "source": [
    "pip install tsfresh tslearn"
   ]
  },
  {
   "cell_type": "code",
   "execution_count": null,
   "id": "f6c8e986",
   "metadata": {},
   "outputs": [],
   "source": [
    "from tsfresh.examples import load_robot_execution_failures\n",
    "from tsfresh.examples.robot_execution_failures import download_robot_execution_failures\n",
    "download_robot_execution_failures()\n",
    "df_ts, y = load_robot_execution_failures()\n"
   ]
  },
  {
   "cell_type": "code",
   "execution_count": null,
   "id": "93127ce2",
   "metadata": {},
   "outputs": [],
   "source": [
    "from tsfresh import extract_features\n",
    "from tsfresh import select_features\n",
    "from tsfresh.utilities.dataframe_functions import impute\n",
    "extracted_features = impute(extract_features(df_ts, column_id=\"id\", column_sort=\"time\"))\n",
    "features_filtered = select_features(extracted_features, y)\n"
   ]
  },
  {
   "cell_type": "code",
   "execution_count": null,
   "id": "a495815f",
   "metadata": {},
   "outputs": [],
   "source": [
    "from sklearn.model_selection import TimeSeriesSplit, GridSearchCV\n",
    "from tslearn.neighbors import KNeighborsTimeSeriesClassifier\n",
    "knn = KNeighborsTimeSeriesClassifier()\n",
    "param_search = {\n",
    "    'metric' : ['dtw'],\n",
    "    'n_neighbors': [1, 2, 3]\n",
    "}\n",
    "tscv = TimeSeriesSplit(n_splits=2)\n",
    "gsearch = GridSearchCV(\n",
    "    estimator=knn,\n",
    "    cv=tscv,\n",
    "    param_grid=param_search\n",
    ")\n",
    "gsearch.fit(\n",
    "    features_filtered,\n",
    "    y\n",
    ")\n"
   ]
  },
  {
   "cell_type": "markdown",
   "id": "c322f53d",
   "metadata": {},
   "source": [
    "## Shapelets"
   ]
  },
  {
   "cell_type": "code",
   "execution_count": null,
   "id": "fbe41a4f",
   "metadata": {},
   "outputs": [],
   "source": [
    "from sktime.classification.shapelet_based import ShapeletTransformClassifier\n",
    "from sktime.classification.sklearn import RotationForest\n",
    "from sktime.datasets import load_unit_test\n",
    "X_train, y_train = load_unit_test(split=\"train\", return_X_y=True)\n",
    "X_test, y_test = load_unit_test(split=\"test\", return_X_y=True)\n",
    "clf = ShapeletTransformClassifier(\n",
    "    estimator=RotationForest(n_estimators=3),\n",
    "    n_shapelet_samples=100,\n",
    "    max_shapelets=10,\n",
    "    batch_size=20,\n",
    ")\n",
    "clf.fit(X_train, y_train)\n",
    "y_pred = clf.predict(X_test)\n"
   ]
  },
  {
   "cell_type": "markdown",
   "id": "9c785371",
   "metadata": {},
   "source": [
    "## ROCKET"
   ]
  },
  {
   "cell_type": "code",
   "execution_count": null,
   "id": "15c53736",
   "metadata": {},
   "outputs": [],
   "source": [
    "from sktime.datasets import load_basic_motions\n",
    "X_train, y_train = load_basic_motions(split=\"train\", return_X_y=True)\n"
   ]
  },
  {
   "cell_type": "code",
   "execution_count": null,
   "id": "cacef7f4",
   "metadata": {},
   "outputs": [],
   "source": [
    "from sktime.transformations.panel.rocket import Rocket\n",
    "rocket = Rocket()\n",
    "rocket.fit(X_train)\n",
    "X_train_transform = rocket.transform(X_train)\n"
   ]
  },
  {
   "cell_type": "code",
   "execution_count": null,
   "id": "880284d5",
   "metadata": {},
   "outputs": [],
   "source": [
    "from sklearn.linear_model import RidgeClassifierCV\n",
    "classifier = RidgeClassifierCV(alphas=np.logspace(-3, 3, 10), normalize=True)\n",
    "classifier.fit(X_train_transform, y_train)\n"
   ]
  },
  {
   "cell_type": "code",
   "execution_count": null,
   "id": "e08e7448",
   "metadata": {},
   "outputs": [],
   "source": [
    "X_test_transform = rocket.transform(X_test)"
   ]
  },
  {
   "cell_type": "code",
   "execution_count": null,
   "id": "6d694d11",
   "metadata": {},
   "outputs": [],
   "source": [
    "classifier.score(X_test_transform, y_test)"
   ]
  },
  {
   "cell_type": "markdown",
   "id": "930a6677",
   "metadata": {},
   "source": [
    "## ProximityForest"
   ]
  },
  {
   "cell_type": "code",
   "execution_count": null,
   "id": "54d981eb",
   "metadata": {},
   "outputs": [],
   "source": [
    "from sktime.classification.distance_based import ProximityForest\n",
    "from sktime.datasets import load_unit_test\n",
    "X_train, y_train = load_unit_test(split=\"train\", return_X_y=True)\n",
    "X_test, y_test = load_unit_test(split=\"test\", return_X_y=True)\n",
    "clf = ProximityForest(n_estimators=5)\n",
    "clf.fit(X_train, y_train)\n",
    "y_pred = clf.predict(X_test)\n"
   ]
  },
  {
   "cell_type": "markdown",
   "id": "3fe4532a",
   "metadata": {},
   "source": [
    "## Mr-SEQL "
   ]
  },
  {
   "cell_type": "code",
   "execution_count": null,
   "id": "4faefb00",
   "metadata": {},
   "outputs": [],
   "source": [
    "from sklearn.model_selection import train_test_split\n",
    "from sktime.datasets import load_arrow_head\n",
    "X, y = load_arrow_head(return_X_y=True)\n",
    "X_train, X_test, y_train, y_test = train_test_split(X, y, random_state=42)\n"
   ]
  },
  {
   "cell_type": "code",
   "execution_count": null,
   "id": "d9801662",
   "metadata": {},
   "outputs": [],
   "source": [
    "from sktime.classification.shapelet_based import MrSEQLClassifier\n",
    "ms = MrSEQLClassifier(seql_mode=\"clf\")\n",
    "ms.fit(X_train, y_train)\n"
   ]
  },
  {
   "cell_type": "code",
   "execution_count": null,
   "id": "ac7c5bfa",
   "metadata": {},
   "outputs": [],
   "source": [
    "from sklearn import metrics\n",
    "predicted = ms.predict(X_test)\n",
    "print(\"Accuracy with mr-seql: %2.3f\" % metrics.accuracy_score(y_test, predicted))\n"
   ]
  },
  {
   "cell_type": "markdown",
   "id": "7da8e493",
   "metadata": {},
   "source": [
    "## HIVE-COTE"
   ]
  },
  {
   "cell_type": "code",
   "execution_count": null,
   "id": "76f7beb1",
   "metadata": {},
   "outputs": [],
   "source": [
    "from sktime.classification.hybrid import HIVECOTEV1\n",
    "from sktime.contrib.vector_classifiers._rotation_forest import RotationForest\n",
    "from sktime.datasets import load_unit_test\n",
    "X_train, y_train = load_unit_test(split=\"train\", return_X_y=True)\n",
    "X_test, y_test = load_unit_test(split=\"test\", return_X_y=True)\n",
    "clf = HIVECOTEV1(\n",
    "    stc_params={\n",
    "        \"estimator\": RotationForest(n_estimators=3),\n",
    "        \"n_shapelet_samples\": 500,\n",
    "        \"max_shapelets\": 20, \n",
    "        \"batch_size\": 100, \n",
    "    },\n",
    "    tsf_params={\"n_estimators\": 10},\n",
    "    rise_params={\"n_estimators\": 10},\n",
    "    cboss_params={\"n_parameter_samples\": 25, \"max_ensemble_size\": 5},\n",
    ")\n",
    "clf.fit(X_train, y_train) HIVECOTEV1(...) y_pred = clf.predict(X_test)\n"
   ]
  }
 ],
 "metadata": {
  "kernelspec": {
   "display_name": "Python 3 (ipykernel)",
   "language": "python",
   "name": "python3"
  },
  "language_info": {
   "codemirror_mode": {
    "name": "ipython",
    "version": 3
   },
   "file_extension": ".py",
   "mimetype": "text/x-python",
   "name": "python",
   "nbconvert_exporter": "python",
   "pygments_lexer": "ipython3",
   "version": "3.10.8"
  }
 },
 "nbformat": 4,
 "nbformat_minor": 5
}
